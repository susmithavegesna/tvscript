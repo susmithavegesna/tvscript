{
 "cells": [
  {
   "cell_type": "markdown",
   "metadata": {},
   "source": [
    "# TV Script Generation\n",
    "In this project, you'll generate your own [Simpsons](https://en.wikipedia.org/wiki/The_Simpsons) TV scripts using RNNs.  You'll be using part of the [Simpsons dataset](https://www.kaggle.com/wcukierski/the-simpsons-by-the-data) of scripts from 27 seasons.  The Neural Network you'll build will generate a new TV script for a scene at [Moe's Tavern](https://simpsonswiki.com/wiki/Moe's_Tavern).\n",
    "## Get the Data\n",
    "The data is already provided for you.  You'll be using a subset of the original dataset.  It consists of only the scenes in Moe's Tavern.  This doesn't include other versions of the tavern, like \"Moe's Cavern\", \"Flaming Moe's\", \"Uncle Moe's Family Feed-Bag\", etc.."
   ]
  },
  {
   "cell_type": "code",
   "execution_count": null,
   "metadata": {
    "collapsed": true
   },
   "outputs": [],
   "source": [
    "\"\"\"\n",
    "DON'T MODIFY ANYTHING IN THIS CELL\n",
    "\"\"\"\n",
    "import helper\n",
    "\n",
    "data_dir = './data/simpsons/moes_tavern_lines.txt'\n",
    "text = helper.load_data(data_dir)\n",
    "# Ignore notice, since we don't use it for analysing the data\n",
    "text = text[81:]"
   ]
  },
  {
   "cell_type": "markdown",
   "metadata": {},
   "source": [
    "## Explore the Data\n",
    "Play around with `view_sentence_range` to view different parts of the data."
   ]
  },
  {
   "cell_type": "code",
   "execution_count": null,
   "metadata": {},
   "outputs": [],
   "source": [
    "view_sentence_range = (0, 10)\n",
    "\n",
    "\"\"\"\n",
    "DON'T MODIFY ANYTHING IN THIS CELL\n",
    "\"\"\"\n",
    "import numpy as np\n",
    "\n",
    "print('Dataset Stats')\n",
    "print('Roughly the number of unique words: {}'.format(len({word: None for word in text.split()})))\n",
    "scenes = text.split('\\n\\n')\n",
    "print('Number of scenes: {}'.format(len(scenes)))\n",
    "sentence_count_scene = [scene.count('\\n') for scene in scenes]\n",
    "print('Average number of sentences in each scene: {}'.format(np.average(sentence_count_scene)))\n",
    "\n",
    "sentences = [sentence for scene in scenes for sentence in scene.split('\\n')]\n",
    "print('Number of lines: {}'.format(len(sentences)))\n",
    "word_count_sentence = [len(sentence.split()) for sentence in sentences]\n",
    "print('Average number of words in each line: {}'.format(np.average(word_count_sentence)))\n",
    "\n",
    "print()\n",
    "print('The sentences {} to {}:'.format(*view_sentence_range))\n",
    "print('\\n'.join(text.split('\\n')[view_sentence_range[0]:view_sentence_range[1]]))"
   ]
  },
  {
   "cell_type": "markdown",
   "metadata": {},
   "source": [
    "## Implement Preprocessing Functions\n",
    "The first thing to do to any dataset is preprocessing.  Implement the following preprocessing functions below:\n",
    "- Lookup Table\n",
    "- Tokenize Punctuation\n",
    "\n",
    "### Lookup Table\n",
    "To create a word embedding, you first need to transform the words to ids.  In this function, create two dictionaries:\n",
    "- Dictionary to go from the words to an id, we'll call `vocab_to_int`\n",
    "- Dictionary to go from the id to word, we'll call `int_to_vocab`\n",
    "\n",
    "Return these dictionaries in the following tuple `(vocab_to_int, int_to_vocab)`"
   ]
  },
  {
   "cell_type": "code",
   "execution_count": 18,
   "metadata": {},
   "outputs": [
    {
     "name": "stdout",
     "output_type": "stream",
     "text": [
      "Tests Passed\n"
     ]
    }
   ],
   "source": [
    "import numpy as np\n",
    "import problem_unittests as tests\n",
    "\n",
    "def create_lookup_tables(text):\n",
    "    \"\"\"\n",
    "    Create lookup tables for vocabulary\n",
    "    :param text: The text of tv scripts split into words\n",
    "    :return: A tuple of dicts (vocab_to_int, int_to_vocab)\n",
    "    \"\"\"\n",
    "    # TODO: Implement Function\n",
    "    #return None, None\n",
    "    from collections import Counter\n",
    "    counts = Counter(text)\n",
    "    vocab = sorted(counts, key=counts.get, reverse=True)\n",
    "    vocab_to_int = {text: ii for ii, text in enumerate(vocab,1)}\n",
    "    int_to_vocab = {ii: text for ii, text in enumerate(vocab,1)}\n",
    "    return vocab_to_int, int_to_vocab\n",
    "\n",
    "   # reviews_ints = []\n",
    "    #for each in sentence:\n",
    "     #   reviews_ints.append([vocab_to_int[text] for word in each.split()])\n",
    "\"\"\"\n",
    "DON'T MODIFY ANYTHING IN THIS CELL THAT IS BELOW THIS LINE\n",
    "\"\"\"\n",
    "tests.test_create_lookup_tables(create_lookup_tables)"
   ]
  },
  {
   "cell_type": "markdown",
   "metadata": {},
   "source": [
    "### Tokenize Punctuation\n",
    "We'll be splitting the script into a word array using spaces as delimiters.  However, punctuations like periods and exclamation marks make it hard for the neural network to distinguish between the word \"bye\" and \"bye!\".\n",
    "\n",
    "Implement the function `token_lookup` to return a dict that will be used to tokenize symbols like \"!\" into \"||Exclamation_Mark||\".  Create a dictionary for the following symbols where the symbol is the key and value is the token:\n",
    "- Period ( . )\n",
    "- Comma ( , )\n",
    "- Quotation Mark ( \" )\n",
    "- Semicolon ( ; )\n",
    "- Exclamation mark ( ! )\n",
    "- Question mark ( ? )\n",
    "- Left Parentheses ( ( )\n",
    "- Right Parentheses ( ) )\n",
    "- Dash ( -- )\n",
    "- Return ( \\n )\n",
    "\n",
    "This dictionary will be used to token the symbols and add the delimiter (space) around it.  This separates the symbols as it's own word, making it easier for the neural network to predict on the next word. Make sure you don't use a token that could be confused as a word. Instead of using the token \"dash\", try using something like \"||dash||\"."
   ]
  },
  {
   "cell_type": "code",
   "execution_count": 19,
   "metadata": {},
   "outputs": [
    {
     "name": "stdout",
     "output_type": "stream",
     "text": [
      "Tests Passed\n"
     ]
    }
   ],
   "source": [
    "def token_lookup():\n",
    "    \"\"\"\n",
    "    Generate a dict to turn punctuation into a token.\n",
    "    :return: Tokenize dictionary where the key is the punctuation and the value is the token\n",
    "    \"\"\"\n",
    "    # TODO: Implement Function\n",
    "    #return None\n",
    "    return {'.': '||Period||', \n",
    "    '?': '||Question_mark||',\n",
    "    '--': '||Dash||',\n",
    "    ',': '||Comma||',\n",
    "    '\"': '||Quotation_Mark||',\n",
    "    ';': '||semicolon||',\n",
    "    '!': '||Exclamation_Mark||',\n",
    "    ')': '||Right_Parentheses||',\n",
    "    '(': '||Left_Perantheses||',\n",
    "    '\\n': '||Return||'\n",
    "        }\n",
    "     \n",
    "    \n",
    "\"\"\"\n",
    "DON'T MODIFY ANYTHING IN THIS CELL THAT IS BELOW THIS LINE\n",
    "\"\"\"\n",
    "tests.test_tokenize(token_lookup)"
   ]
  },
  {
   "cell_type": "markdown",
   "metadata": {},
   "source": [
    "## Preprocess all the data and save it\n",
    "Running the code cell below will preprocess all the data and save it to file."
   ]
  },
  {
   "cell_type": "code",
   "execution_count": 20,
   "metadata": {
    "collapsed": true
   },
   "outputs": [],
   "source": [
    "\"\"\"\n",
    "DON'T MODIFY ANYTHING IN THIS CELL\n",
    "\"\"\"\n",
    "# Preprocess Training, Validation, and Testing Data\n",
    "helper.preprocess_and_save_data(data_dir, token_lookup, create_lookup_tables)"
   ]
  },
  {
   "cell_type": "markdown",
   "metadata": {},
   "source": [
    "# Check Point\n",
    "This is your first checkpoint. If you ever decide to come back to this notebook or have to restart the notebook, you can start from here. The preprocessed data has been saved to disk."
   ]
  },
  {
   "cell_type": "code",
   "execution_count": 21,
   "metadata": {
    "collapsed": true
   },
   "outputs": [],
   "source": [
    "\"\"\"\n",
    "DON'T MODIFY ANYTHING IN THIS CELL\n",
    "\"\"\"\n",
    "import helper\n",
    "import numpy as np\n",
    "import problem_unittests as tests\n",
    "\n",
    "int_text, vocab_to_int, int_to_vocab, token_dict = helper.load_preprocess()"
   ]
  },
  {
   "cell_type": "markdown",
   "metadata": {},
   "source": [
    "## Build the Neural Network\n",
    "You'll build the components necessary to build a RNN by implementing the following functions below:\n",
    "- get_inputs\n",
    "- get_init_cell\n",
    "- get_embed\n",
    "- build_rnn\n",
    "- build_nn\n",
    "- get_batches\n",
    "\n",
    "### Check the Version of TensorFlow and Access to GPU"
   ]
  },
  {
   "cell_type": "code",
   "execution_count": 22,
   "metadata": {},
   "outputs": [
    {
     "name": "stdout",
     "output_type": "stream",
     "text": [
      "TensorFlow Version: 1.0.1\n",
      "Default GPU Device: /gpu:0\n"
     ]
    }
   ],
   "source": [
    "\"\"\"\n",
    "DON'T MODIFY ANYTHING IN THIS CELL\n",
    "\"\"\"\n",
    "from distutils.version import LooseVersion\n",
    "import warnings\n",
    "import tensorflow as tf\n",
    "\n",
    "# Check TensorFlow Version\n",
    "assert LooseVersion(tf.__version__) >= LooseVersion('1.0'), 'Please use TensorFlow version 1.0 or newer'\n",
    "print('TensorFlow Version: {}'.format(tf.__version__))\n",
    "\n",
    "# Check for a GPU\n",
    "if not tf.test.gpu_device_name():\n",
    "    warnings.warn('No GPU found. Please use a GPU to train your neural network.')\n",
    "else:\n",
    "    print('Default GPU Device: {}'.format(tf.test.gpu_device_name()))"
   ]
  },
  {
   "cell_type": "markdown",
   "metadata": {},
   "source": [
    "### Input\n",
    "Implement the `get_inputs()` function to create TF Placeholders for the Neural Network.  It should create the following placeholders:\n",
    "- Input text placeholder named \"input\" using the [TF Placeholder](https://www.tensorflow.org/api_docs/python/tf/placeholder) `name` parameter.\n",
    "- Targets placeholder\n",
    "- Learning Rate placeholder\n",
    "\n",
    "Return the placeholders in the following tuple `(Input, Targets, LearningRate)`"
   ]
  },
  {
   "cell_type": "code",
   "execution_count": 23,
   "metadata": {},
   "outputs": [
    {
     "name": "stdout",
     "output_type": "stream",
     "text": [
      "Tests Passed\n"
     ]
    }
   ],
   "source": [
    "def get_inputs():\n",
    "    \"\"\"\n",
    "    Create TF Placeholders for input, targets, and learning rate.\n",
    "    :return: Tuple (input, targets, learning rate)\n",
    "    \"\"\"\n",
    "    # TODO: Implement Function\n",
    "    Input = tf.placeholder(tf.int32 ,shape=(None, None), name=\"input\")\n",
    "    Targets = tf.placeholder(tf.int32 ,shape=(None, None), name=\"Targets\")\n",
    "    LearningRate = tf.placeholder(tf.float32 ,shape = None, name=\"LearningRate\")\n",
    "    \n",
    "\n",
    "    return Input, Targets, LearningRate\n",
    "\n",
    "\n",
    "\"\"\"\n",
    "DON'T MODIFY ANYTHING IN THIS CELL THAT IS BELOW THIS LINE\n",
    "\"\"\"\n",
    "tests.test_get_inputs(get_inputs)"
   ]
  },
  {
   "cell_type": "markdown",
   "metadata": {},
   "source": [
    "### Build RNN Cell and Initialize\n",
    "Stack one or more [`BasicLSTMCells`](https://www.tensorflow.org/api_docs/python/tf/contrib/rnn/BasicLSTMCell) in a [`MultiRNNCell`](https://www.tensorflow.org/api_docs/python/tf/contrib/rnn/MultiRNNCell).\n",
    "- The Rnn size should be set using `rnn_size`\n",
    "- Initalize Cell State using the MultiRNNCell's [`zero_state()`](https://www.tensorflow.org/api_docs/python/tf/contrib/rnn/MultiRNNCell#zero_state) function\n",
    "    - Apply the name \"initial_state\" to the initial state using [`tf.identity()`](https://www.tensorflow.org/api_docs/python/tf/identity)\n",
    "\n",
    "Return the cell and initial state in the following tuple `(Cell, InitialState)`"
   ]
  },
  {
   "cell_type": "code",
   "execution_count": 80,
   "metadata": {},
   "outputs": [
    {
     "name": "stdout",
     "output_type": "stream",
     "text": [
      "Tests Passed\n"
     ]
    }
   ],
   "source": [
    "def get_init_cell(batch_size, rnn_size):\n",
    "    \"\"\"\n",
    "    Create an RNN Cell and initialize it.\n",
    "    :param batch_size: Size of batches\n",
    "    :param rnn_size: Size of RNNs\n",
    "    :return: Tuple (cell, initialize state)\n",
    "    \"\"\"\n",
    "    # TODO: Implement Function\n",
    "    #return None, None\n",
    "    lstm = tf.contrib.rnn.BasicLSTMCell(rnn_size,state_is_tuple=True)\n",
    "    drop = tf.contrib.rnn.DropoutWrapper(lstm, output_keep_prob=1.0)\n",
    "    cell = tf.contrib.rnn.MultiRNNCell([drop] * 1)\n",
    "    initial_state = cell.zero_state(batch_size, tf.float32)\n",
    "    initial_state = tf.identity(initial_state, name = \"initial_state\")\n",
    "    return cell,initial_state\n",
    "\n",
    "\n",
    "\n",
    "\"\"\"\n",
    "DON'T MODIFY ANYTHING IN THIS CELL THAT IS BELOW THIS LINE\n",
    "\"\"\"\n",
    "tests.test_get_init_cell(get_init_cell)"
   ]
  },
  {
   "cell_type": "markdown",
   "metadata": {},
   "source": [
    "### Word Embedding\n",
    "Apply embedding to `input_data` using TensorFlow.  Return the embedded sequence."
   ]
  },
  {
   "cell_type": "code",
   "execution_count": 81,
   "metadata": {},
   "outputs": [
    {
     "name": "stdout",
     "output_type": "stream",
     "text": [
      "Tests Passed\n"
     ]
    }
   ],
   "source": [
    "def get_embed(input_data, vocab_size, embed_dim):\n",
    "    \"\"\"\n",
    "    Create embedding for <input_data>.\n",
    "    :param input_data: TF placeholder for text input.\n",
    "    :param vocab_size: Number of words in vocabulary.\n",
    "    :param embed_dim: Number of embedding dimensions\n",
    "    :return: Embedded input.\n",
    "    \"\"\"\n",
    "    # TODO: Implement Function\n",
    "    #return None\n",
    "    embedding = tf.Variable(tf.random_uniform((vocab_size, embed_dim)))\n",
    "    embed = tf.nn.embedding_lookup(embedding, input_data)\n",
    "    return embed\n",
    "\n",
    "\"\"\"\n",
    "DON'T MODIFY ANYTHING IN THIS CELL THAT IS BELOW THIS LINE\n",
    "\"\"\"\n",
    "tests.test_get_embed(get_embed)"
   ]
  },
  {
   "cell_type": "markdown",
   "metadata": {},
   "source": [
    "### Build RNN\n",
    "You created a RNN Cell in the `get_init_cell()` function.  Time to use the cell to create a RNN.\n",
    "- Build the RNN using the [`tf.nn.dynamic_rnn()`](https://www.tensorflow.org/api_docs/python/tf/nn/dynamic_rnn)\n",
    " - Apply the name \"final_state\" to the final state using [`tf.identity()`](https://www.tensorflow.org/api_docs/python/tf/identity)\n",
    "\n",
    "Return the outputs and final_state state in the following tuple `(Outputs, FinalState)` "
   ]
  },
  {
   "cell_type": "code",
   "execution_count": 82,
   "metadata": {},
   "outputs": [
    {
     "name": "stdout",
     "output_type": "stream",
     "text": [
      "Tests Passed\n"
     ]
    }
   ],
   "source": [
    "def build_rnn(cell, inputs):\n",
    "    \"\"\"\n",
    "    Create a RNN using a RNN Cell\n",
    "    :param cell: RNN Cell\n",
    "    :param inputs: Input text data\n",
    "    :return: Tuple (Outputs, Final State)\n",
    "    \"\"\"\n",
    "    # TODO: Implement Function\n",
    "    #return None, None\n",
    "    outputs, final_state = tf.nn.dynamic_rnn(cell, inputs, dtype = tf.float32)\n",
    "    final_state = tf.identity(final_state, name=\"final_state\")\n",
    "    return (outputs, final_state)\n",
    "\n",
    "\"\"\"\n",
    "DON'T MODIFY ANYTHING IN THIS CELL THAT IS BELOW THIS LINE\n",
    "\"\"\"\n",
    "tests.test_build_rnn(build_rnn)"
   ]
  },
  {
   "cell_type": "markdown",
   "metadata": {},
   "source": [
    "### Build the Neural Network\n",
    "Apply the functions you implemented above to:\n",
    "- Apply embedding to `input_data` using your `get_embed(input_data, vocab_size, embed_dim)` function.\n",
    "- Build RNN using `cell` and your `build_rnn(cell, inputs)` function.\n",
    "- Apply a fully connected layer with a linear activation and `vocab_size` as the number of outputs.\n",
    "\n",
    "Return the logits and final state in the following tuple (Logits, FinalState) "
   ]
  },
  {
   "cell_type": "code",
   "execution_count": 91,
   "metadata": {},
   "outputs": [
    {
     "name": "stdout",
     "output_type": "stream",
     "text": [
      "Tests Passed\n"
     ]
    }
   ],
   "source": [
    "def build_nn(cell, rnn_size, input_data, vocab_size, embed_dim):\n",
    "    \"\"\"\n",
    "    Build part of the neural network\n",
    "    :param cell: RNN cell\n",
    "    :param rnn_size: Size of rnns\n",
    "    :param input_data: Input data\n",
    "    :param vocab_size: Vocabulary size\n",
    "    :param embed_dim: Number of embedding dimensions\n",
    "    :return: Tuple (Logits, FinalState)\n",
    "    \"\"\"\n",
    "    # TODO: Implement Function\n",
    "    #return None, None\n",
    "    input_data = get_embed(input_data,vocab_size,rnn_size)\n",
    "    outputs,final_state = build_rnn(cell,input_data)\n",
    "    logits = tf.contrib.layers.fully_connected(outputs,vocab_size,\n",
    "                                               weights_initializer=tf.truncated_normal_initializer(mean=0.0,stddev=0.01),\n",
    "                                               biases_initializer=tf.zeros_initializer(),\n",
    "                                               activation_fn=None)\n",
    "\n",
    "    return (logits, final_state)\n",
    "\n",
    "\"\"\"\n",
    "DON'T MODIFY ANYTHING IN THIS CELL THAT IS BELOW THIS LINE\n",
    "\"\"\"\n",
    "tests.test_build_nn(build_nn)"
   ]
  },
  {
   "cell_type": "markdown",
   "metadata": {},
   "source": [
    "### Batches\n",
    "Implement `get_batches` to create batches of input and targets using `int_text`.  The batches should be a Numpy array with the shape `(number of batches, 2, batch size, sequence length)`. Each batch contains two elements:\n",
    "- The first element is a single batch of **input** with the shape `[batch size, sequence length]`\n",
    "- The second element is a single batch of **targets** with the shape `[batch size, sequence length]`\n",
    "\n",
    "If you can't fill the last batch with enough data, drop the last batch.\n",
    "\n",
    "For exmple, `get_batches([1, 2, 3, 4, 5, 6, 7, 8, 9, 10, 11, 12, 13, 14, 15, 16, 17, 18, 19, 20], 3, 2)` would return a Numpy array of the following:\n",
    "```\n",
    "[\n",
    "  # First Batch\n",
    "  [\n",
    "    # Batch of Input\n",
    "    [[ 1  2], [ 7  8], [13 14]]\n",
    "    # Batch of targets\n",
    "    [[ 2  3], [ 8  9], [14 15]]\n",
    "  ]\n",
    "\n",
    "  # Second Batch\n",
    "  [\n",
    "    # Batch of Input\n",
    "    [[ 3  4], [ 9 10], [15 16]]\n",
    "    # Batch of targets\n",
    "    [[ 4  5], [10 11], [16 17]]\n",
    "  ]\n",
    "\n",
    "  # Third Batch\n",
    "  [\n",
    "    # Batch of Input\n",
    "    [[ 5  6], [11 12], [17 18]]\n",
    "    # Batch of targets\n",
    "    [[ 6  7], [12 13], [18  1]]\n",
    "  ]\n",
    "]\n",
    "```\n",
    "\n",
    "Notice that the last target value in the last batch is the first input value of the first batch. In this case, `1`. This is a common technique used when creating sequence batches, although it is rather unintuitive."
   ]
  },
  {
   "cell_type": "code",
   "execution_count": 92,
   "metadata": {},
   "outputs": [
    {
     "name": "stdout",
     "output_type": "stream",
     "text": [
      "Tests Passed\n"
     ]
    }
   ],
   "source": [
    "def get_batches(int_text, batch_size, seq_length):\n",
    "    \"\"\"\n",
    "    Return batches of input and target\n",
    "    :param int_text: Text with the words replaced by their ids\n",
    "    :param batch_size: The size of batch\n",
    "    :param seq_length: The length of sequence\n",
    "    :return: Batches as a Numpy array\n",
    "    \"\"\"\n",
    "    # TODO: Implement Function\n",
    "    #return None\n",
    "    n_batches = int(len(int_text) / (batch_size * seq_length))\n",
    "\n",
    "    xdata = np.array(int_text[: n_batches * batch_size * seq_length])\n",
    "    ydata = np.array(int_text[1: n_batches * batch_size * seq_length + 1])\n",
    "#print((ydata.shape))\n",
    "    ydata[-1] = xdata[0]\n",
    "\n",
    "    x_batches = np.split(xdata.reshape(batch_size, -1), n_batches, 1)\n",
    "    y_batches = np.split(ydata.reshape(batch_size, -1), n_batches, 1)\n",
    "\n",
    "#print(type(x_batches[0]))\n",
    "    batches = np.array(list(zip(x_batches, y_batches)))\n",
    "#print(batches.shape)\n",
    "    return batches\n",
    "\n",
    "\"\"\"\n",
    "DON'T MODIFY ANYTHING IN THIS CELL THAT IS BELOW THIS LINE\n",
    "\"\"\"\n",
    "tests.test_get_batches(get_batches)"
   ]
  },
  {
   "cell_type": "markdown",
   "metadata": {},
   "source": [
    "## Neural Network Training\n",
    "### Hyperparameters\n",
    "Tune the following parameters:\n",
    "\n",
    "- Set `num_epochs` to the number of epochs.\n",
    "- Set `batch_size` to the batch size.\n",
    "- Set `rnn_size` to the size of the RNNs.\n",
    "- Set `embed_dim` to the size of the embedding.\n",
    "- Set `seq_length` to the length of sequence.\n",
    "- Set `learning_rate` to the learning rate.\n",
    "- Set `show_every_n_batches` to the number of batches the neural network should print progress."
   ]
  },
  {
   "cell_type": "code",
   "execution_count": 93,
   "metadata": {
    "collapsed": true
   },
   "outputs": [],
   "source": [
    "# Number of Epochs\n",
    "num_epochs = 100\n",
    "# Batch Size\n",
    "batch_size = 64\n",
    "# RNN Size\n",
    "rnn_size = 256\n",
    "# Embedding Dimension Size\n",
    "embed_dim = 300\n",
    "# Sequence Length\n",
    "seq_length = 10\n",
    "# Learning Rate\n",
    "learning_rate = 0.1\n",
    "# Show stats for every n number of batches\n",
    "show_every_n_batches = 60\n",
    "\n",
    "\"\"\"\n",
    "DON'T MODIFY ANYTHING IN THIS CELL THAT IS BELOW THIS LINE\n",
    "\"\"\"\n",
    "save_dir = './save'"
   ]
  },
  {
   "cell_type": "markdown",
   "metadata": {},
   "source": [
    "### Build the Graph\n",
    "Build the graph using the neural network you implemented."
   ]
  },
  {
   "cell_type": "code",
   "execution_count": 94,
   "metadata": {
    "collapsed": true
   },
   "outputs": [],
   "source": [
    "\"\"\"\n",
    "DON'T MODIFY ANYTHING IN THIS CELL\n",
    "\"\"\"\n",
    "from tensorflow.contrib import seq2seq\n",
    "\n",
    "train_graph = tf.Graph()\n",
    "with train_graph.as_default():\n",
    "    vocab_size = len(int_to_vocab)\n",
    "    input_text, targets, lr = get_inputs()\n",
    "    input_data_shape = tf.shape(input_text)\n",
    "    cell, initial_state = get_init_cell(input_data_shape[0], rnn_size)\n",
    "    logits, final_state = build_nn(cell, rnn_size, input_text, vocab_size, embed_dim)\n",
    "\n",
    "    # Probabilities for generating words\n",
    "    probs = tf.nn.softmax(logits, name='probs')\n",
    "\n",
    "    # Loss function\n",
    "    cost = seq2seq.sequence_loss(\n",
    "        logits,\n",
    "        targets,\n",
    "        tf.ones([input_data_shape[0], input_data_shape[1]]))\n",
    "\n",
    "    # Optimizer\n",
    "    optimizer = tf.train.AdamOptimizer(lr)\n",
    "\n",
    "    # Gradient Clipping\n",
    "    gradients = optimizer.compute_gradients(cost)\n",
    "    capped_gradients = [(tf.clip_by_value(grad, -1., 1.), var) for grad, var in gradients if grad is not None]\n",
    "    train_op = optimizer.apply_gradients(capped_gradients)"
   ]
  },
  {
   "cell_type": "markdown",
   "metadata": {},
   "source": [
    "## Train\n",
    "Train the neural network on the preprocessed data.  If you have a hard time getting a good loss, check the [forms](https://discussions.udacity.com/) to see if anyone is having the same problem."
   ]
  },
  {
   "cell_type": "code",
   "execution_count": 95,
   "metadata": {},
   "outputs": [
    {
     "name": "stdout",
     "output_type": "stream",
     "text": [
      "Epoch   0 Batch    0/107   train_loss = 8.821\n",
      "Epoch   0 Batch   60/107   train_loss = 10.101\n",
      "Epoch   1 Batch   13/107   train_loss = 7.462\n",
      "Epoch   1 Batch   73/107   train_loss = 8.737\n",
      "Epoch   2 Batch   26/107   train_loss = 6.997\n",
      "Epoch   2 Batch   86/107   train_loss = 6.669\n",
      "Epoch   3 Batch   39/107   train_loss = 6.266\n",
      "Epoch   3 Batch   99/107   train_loss = 6.473\n",
      "Epoch   4 Batch   52/107   train_loss = 6.312\n",
      "Epoch   5 Batch    5/107   train_loss = 6.039\n",
      "Epoch   5 Batch   65/107   train_loss = 6.043\n",
      "Epoch   6 Batch   18/107   train_loss = 5.913\n",
      "Epoch   6 Batch   78/107   train_loss = 6.129\n",
      "Epoch   7 Batch   31/107   train_loss = 6.114\n",
      "Epoch   7 Batch   91/107   train_loss = 6.062\n",
      "Epoch   8 Batch   44/107   train_loss = 6.202\n",
      "Epoch   8 Batch  104/107   train_loss = 6.128\n",
      "Epoch   9 Batch   57/107   train_loss = 5.993\n",
      "Epoch  10 Batch   10/107   train_loss = 5.893\n",
      "Epoch  10 Batch   70/107   train_loss = 6.046\n",
      "Epoch  11 Batch   23/107   train_loss = 5.776\n",
      "Epoch  11 Batch   83/107   train_loss = 6.120\n",
      "Epoch  12 Batch   36/107   train_loss = 6.066\n",
      "Epoch  12 Batch   96/107   train_loss = 5.888\n",
      "Epoch  13 Batch   49/107   train_loss = 5.983\n",
      "Epoch  14 Batch    2/107   train_loss = 5.723\n",
      "Epoch  14 Batch   62/107   train_loss = 5.979\n",
      "Epoch  15 Batch   15/107   train_loss = 5.746\n",
      "Epoch  15 Batch   75/107   train_loss = 5.890\n",
      "Epoch  16 Batch   28/107   train_loss = 5.781\n",
      "Epoch  16 Batch   88/107   train_loss = 5.996\n",
      "Epoch  17 Batch   41/107   train_loss = 5.719\n",
      "Epoch  17 Batch  101/107   train_loss = 5.881\n",
      "Epoch  18 Batch   54/107   train_loss = 6.142\n",
      "Epoch  19 Batch    7/107   train_loss = 5.589\n",
      "Epoch  19 Batch   67/107   train_loss = 5.785\n",
      "Epoch  20 Batch   20/107   train_loss = 5.951\n",
      "Epoch  20 Batch   80/107   train_loss = 5.833\n",
      "Epoch  21 Batch   33/107   train_loss = 5.753\n",
      "Epoch  21 Batch   93/107   train_loss = 5.955\n",
      "Epoch  22 Batch   46/107   train_loss = 5.970\n",
      "Epoch  22 Batch  106/107   train_loss = 5.791\n",
      "Epoch  23 Batch   59/107   train_loss = 5.928\n",
      "Epoch  24 Batch   12/107   train_loss = 5.866\n",
      "Epoch  24 Batch   72/107   train_loss = 6.047\n",
      "Epoch  25 Batch   25/107   train_loss = 5.841\n",
      "Epoch  25 Batch   85/107   train_loss = 5.900\n",
      "Epoch  26 Batch   38/107   train_loss = 5.703\n",
      "Epoch  26 Batch   98/107   train_loss = 6.087\n",
      "Epoch  27 Batch   51/107   train_loss = 5.927\n",
      "Epoch  28 Batch    4/107   train_loss = 5.873\n",
      "Epoch  28 Batch   64/107   train_loss = 5.822\n",
      "Epoch  29 Batch   17/107   train_loss = 5.822\n",
      "Epoch  29 Batch   77/107   train_loss = 5.791\n",
      "Epoch  30 Batch   30/107   train_loss = 5.746\n",
      "Epoch  30 Batch   90/107   train_loss = 5.864\n",
      "Epoch  31 Batch   43/107   train_loss = 5.500\n",
      "Epoch  31 Batch  103/107   train_loss = 5.790\n",
      "Epoch  32 Batch   56/107   train_loss = 5.795\n",
      "Epoch  33 Batch    9/107   train_loss = 5.754\n",
      "Epoch  33 Batch   69/107   train_loss = 6.060\n",
      "Epoch  34 Batch   22/107   train_loss = 5.742\n",
      "Epoch  34 Batch   82/107   train_loss = 5.907\n",
      "Epoch  35 Batch   35/107   train_loss = 5.884\n",
      "Epoch  35 Batch   95/107   train_loss = 5.703\n",
      "Epoch  36 Batch   48/107   train_loss = 5.851\n",
      "Epoch  37 Batch    1/107   train_loss = 5.747\n",
      "Epoch  37 Batch   61/107   train_loss = 5.974\n",
      "Epoch  38 Batch   14/107   train_loss = 5.717\n",
      "Epoch  38 Batch   74/107   train_loss = 5.841\n",
      "Epoch  39 Batch   27/107   train_loss = 5.988\n",
      "Epoch  39 Batch   87/107   train_loss = 5.939\n",
      "Epoch  40 Batch   40/107   train_loss = 5.779\n",
      "Epoch  40 Batch  100/107   train_loss = 5.801\n",
      "Epoch  41 Batch   53/107   train_loss = 5.717\n",
      "Epoch  42 Batch    6/107   train_loss = 5.604\n",
      "Epoch  42 Batch   66/107   train_loss = nan\n",
      "Epoch  43 Batch   19/107   train_loss = 5.722\n",
      "Epoch  43 Batch   79/107   train_loss = 5.866\n",
      "Epoch  44 Batch   32/107   train_loss = 5.727\n",
      "Epoch  44 Batch   92/107   train_loss = 5.952\n",
      "Epoch  45 Batch   45/107   train_loss = 5.713\n",
      "Epoch  45 Batch  105/107   train_loss = 5.811\n",
      "Epoch  46 Batch   58/107   train_loss = 5.714\n",
      "Epoch  47 Batch   11/107   train_loss = 5.716\n",
      "Epoch  47 Batch   71/107   train_loss = 5.689\n",
      "Epoch  48 Batch   24/107   train_loss = 5.752\n",
      "Epoch  48 Batch   84/107   train_loss = 5.934\n",
      "Epoch  49 Batch   37/107   train_loss = 5.731\n",
      "Epoch  49 Batch   97/107   train_loss = 5.914\n",
      "Epoch  50 Batch   50/107   train_loss = 5.638\n",
      "Epoch  51 Batch    3/107   train_loss = 5.586\n",
      "Epoch  51 Batch   63/107   train_loss = 5.958\n",
      "Epoch  52 Batch   16/107   train_loss = 5.521\n",
      "Epoch  52 Batch   76/107   train_loss = 5.901\n",
      "Epoch  53 Batch   29/107   train_loss = 5.818\n",
      "Epoch  53 Batch   89/107   train_loss = 5.832\n",
      "Epoch  54 Batch   42/107   train_loss = 5.833\n",
      "Epoch  54 Batch  102/107   train_loss = 5.808\n",
      "Epoch  55 Batch   55/107   train_loss = 5.805\n",
      "Epoch  56 Batch    8/107   train_loss = 5.904\n",
      "Epoch  56 Batch   68/107   train_loss = 5.656\n",
      "Epoch  57 Batch   21/107   train_loss = 5.653\n",
      "Epoch  57 Batch   81/107   train_loss = 5.687\n",
      "Epoch  58 Batch   34/107   train_loss = 5.874\n",
      "Epoch  58 Batch   94/107   train_loss = 5.801\n",
      "Epoch  59 Batch   47/107   train_loss = 5.697\n",
      "Epoch  60 Batch    0/107   train_loss = 5.827\n",
      "Epoch  60 Batch   60/107   train_loss = 5.802\n",
      "Epoch  61 Batch   13/107   train_loss = 5.752\n",
      "Epoch  61 Batch   73/107   train_loss = 5.997\n",
      "Epoch  62 Batch   26/107   train_loss = 5.658\n",
      "Epoch  62 Batch   86/107   train_loss = 5.832\n",
      "Epoch  63 Batch   39/107   train_loss = 5.629\n",
      "Epoch  63 Batch   99/107   train_loss = 5.961\n",
      "Epoch  64 Batch   52/107   train_loss = 5.722\n",
      "Epoch  65 Batch    5/107   train_loss = 5.633\n",
      "Epoch  65 Batch   65/107   train_loss = 5.760\n",
      "Epoch  66 Batch   18/107   train_loss = 5.620\n",
      "Epoch  66 Batch   78/107   train_loss = 5.843\n",
      "Epoch  67 Batch   31/107   train_loss = 5.852\n",
      "Epoch  67 Batch   91/107   train_loss = 5.852\n",
      "Epoch  68 Batch   44/107   train_loss = 5.924\n",
      "Epoch  68 Batch  104/107   train_loss = 5.864\n",
      "Epoch  69 Batch   57/107   train_loss = 5.771\n",
      "Epoch  70 Batch   10/107   train_loss = 5.727\n",
      "Epoch  70 Batch   70/107   train_loss = 5.852\n",
      "Epoch  71 Batch   23/107   train_loss = 5.620\n",
      "Epoch  71 Batch   83/107   train_loss = 5.971\n",
      "Epoch  72 Batch   36/107   train_loss = 5.901\n",
      "Epoch  72 Batch   96/107   train_loss = 5.743\n",
      "Epoch  73 Batch   49/107   train_loss = 5.832\n",
      "Epoch  74 Batch    2/107   train_loss = 5.608\n",
      "Epoch  74 Batch   62/107   train_loss = 5.820\n",
      "Epoch  75 Batch   15/107   train_loss = 5.608\n",
      "Epoch  75 Batch   75/107   train_loss = 5.808\n",
      "Epoch  76 Batch   28/107   train_loss = 5.654\n",
      "Epoch  76 Batch   88/107   train_loss = 5.872\n",
      "Epoch  77 Batch   41/107   train_loss = 5.606\n",
      "Epoch  77 Batch  101/107   train_loss = 5.782\n",
      "Epoch  78 Batch   54/107   train_loss = 6.004\n",
      "Epoch  79 Batch    7/107   train_loss = 5.503\n",
      "Epoch  79 Batch   67/107   train_loss = 5.702\n",
      "Epoch  80 Batch   20/107   train_loss = 5.840\n",
      "Epoch  80 Batch   80/107   train_loss = 5.729\n",
      "Epoch  81 Batch   33/107   train_loss = 5.679\n",
      "Epoch  81 Batch   93/107   train_loss = 5.884\n",
      "Epoch  82 Batch   46/107   train_loss = 5.900\n",
      "Epoch  82 Batch  106/107   train_loss = 5.707\n",
      "Epoch  83 Batch   59/107   train_loss = 5.834\n",
      "Epoch  84 Batch   12/107   train_loss = 5.802\n",
      "Epoch  84 Batch   72/107   train_loss = 5.960\n",
      "Epoch  85 Batch   25/107   train_loss = 5.783\n",
      "Epoch  85 Batch   85/107   train_loss = 5.817\n",
      "Epoch  86 Batch   38/107   train_loss = 5.619\n",
      "Epoch  86 Batch   98/107   train_loss = 6.030\n",
      "Epoch  87 Batch   51/107   train_loss = 5.863\n",
      "Epoch  88 Batch    4/107   train_loss = 5.805\n",
      "Epoch  88 Batch   64/107   train_loss = 5.762\n",
      "Epoch  89 Batch   17/107   train_loss = 5.778\n",
      "Epoch  89 Batch   77/107   train_loss = 5.732\n",
      "Epoch  90 Batch   30/107   train_loss = 5.684\n",
      "Epoch  90 Batch   90/107   train_loss = 5.814\n",
      "Epoch  91 Batch   43/107   train_loss = 5.446\n",
      "Epoch  91 Batch  103/107   train_loss = 5.717\n",
      "Epoch  92 Batch   56/107   train_loss = 5.730\n",
      "Epoch  93 Batch    9/107   train_loss = 5.702\n",
      "Epoch  93 Batch   69/107   train_loss = 6.015\n",
      "Epoch  94 Batch   22/107   train_loss = 5.704\n",
      "Epoch  94 Batch   82/107   train_loss = 5.865\n",
      "Epoch  95 Batch   35/107   train_loss = 5.836\n",
      "Epoch  95 Batch   95/107   train_loss = 5.655\n",
      "Epoch  96 Batch   48/107   train_loss = 5.809\n",
      "Epoch  97 Batch    1/107   train_loss = 5.711\n",
      "Epoch  97 Batch   61/107   train_loss = 5.931\n",
      "Epoch  98 Batch   14/107   train_loss = 5.675\n",
      "Epoch  98 Batch   74/107   train_loss = 5.788\n",
      "Epoch  99 Batch   27/107   train_loss = 5.956\n",
      "Epoch  99 Batch   87/107   train_loss = 5.894\n"
     ]
    },
    {
     "name": "stdout",
     "output_type": "stream",
     "text": [
      "Model Trained and Saved\n"
     ]
    }
   ],
   "source": [
    "\"\"\"\n",
    "DON'T MODIFY ANYTHING IN THIS CELL\n",
    "\"\"\"\n",
    "batches = get_batches(int_text, batch_size, seq_length)\n",
    "\n",
    "with tf.Session(graph=train_graph) as sess:\n",
    "    sess.run(tf.global_variables_initializer())\n",
    "\n",
    "    for epoch_i in range(num_epochs):\n",
    "        state = sess.run(initial_state, {input_text: batches[0][0]})\n",
    "\n",
    "        for batch_i, (x, y) in enumerate(batches):\n",
    "            feed = {\n",
    "                input_text: x,\n",
    "                targets: y,\n",
    "                initial_state: state,\n",
    "                lr: learning_rate}\n",
    "            train_loss, state, _ = sess.run([cost, final_state, train_op], feed)\n",
    "\n",
    "            # Show every <show_every_n_batches> batches\n",
    "            if (epoch_i * len(batches) + batch_i) % show_every_n_batches == 0:\n",
    "                print('Epoch {:>3} Batch {:>4}/{}   train_loss = {:.3f}'.format(\n",
    "                    epoch_i,\n",
    "                    batch_i,\n",
    "                    len(batches),\n",
    "                    train_loss))\n",
    "\n",
    "    # Save Model\n",
    "    saver = tf.train.Saver()\n",
    "    saver.save(sess, save_dir)\n",
    "    print('Model Trained and Saved')"
   ]
  },
  {
   "cell_type": "markdown",
   "metadata": {},
   "source": [
    "## Save Parameters\n",
    "Save `seq_length` and `save_dir` for generating a new TV script."
   ]
  },
  {
   "cell_type": "code",
   "execution_count": null,
   "metadata": {
    "collapsed": true
   },
   "outputs": [],
   "source": [
    "\"\"\"\n",
    "DON'T MODIFY ANYTHING IN THIS CELL\n",
    "\"\"\"\n",
    "# Save parameters for checkpoint\n",
    "helper.save_params((seq_length, save_dir))"
   ]
  },
  {
   "cell_type": "markdown",
   "metadata": {},
   "source": [
    "# Checkpoint"
   ]
  },
  {
   "cell_type": "code",
   "execution_count": null,
   "metadata": {
    "collapsed": true
   },
   "outputs": [],
   "source": [
    "\"\"\"\n",
    "DON'T MODIFY ANYTHING IN THIS CELL\n",
    "\"\"\"\n",
    "import tensorflow as tf\n",
    "import numpy as np\n",
    "import helper\n",
    "import problem_unittests as tests\n",
    "\n",
    "_, vocab_to_int, int_to_vocab, token_dict = helper.load_preprocess()\n",
    "seq_length, load_dir = helper.load_params()"
   ]
  },
  {
   "cell_type": "markdown",
   "metadata": {},
   "source": [
    "## Implement Generate Functions\n",
    "### Get Tensors\n",
    "Get tensors from `loaded_graph` using the function [`get_tensor_by_name()`](https://www.tensorflow.org/api_docs/python/tf/Graph#get_tensor_by_name).  Get the tensors using the following names:\n",
    "- \"input:0\"\n",
    "- \"initial_state:0\"\n",
    "- \"final_state:0\"\n",
    "- \"probs:0\"\n",
    "\n",
    "Return the tensors in the following tuple `(InputTensor, InitialStateTensor, FinalStateTensor, ProbsTensor)` "
   ]
  },
  {
   "cell_type": "code",
   "execution_count": null,
   "metadata": {
    "collapsed": true
   },
   "outputs": [],
   "source": [
    "def get_tensors(loaded_graph):\n",
    "    \"\"\"\n",
    "    Get input, initial state, final state, and probabilities tensor from <loaded_graph>\n",
    "    :param loaded_graph: TensorFlow graph loaded from file\n",
    "    :return: Tuple (InputTensor, InitialStateTensor, FinalStateTensor, ProbsTensor)\n",
    "    \"\"\"\n",
    "    # TODO: Implement Function\n",
    "    return None, None, None, None\n",
    "\n",
    "\n",
    "\"\"\"\n",
    "DON'T MODIFY ANYTHING IN THIS CELL THAT IS BELOW THIS LINE\n",
    "\"\"\"\n",
    "tests.test_get_tensors(get_tensors)"
   ]
  },
  {
   "cell_type": "markdown",
   "metadata": {},
   "source": [
    "### Choose Word\n",
    "Implement the `pick_word()` function to select the next word using `probabilities`."
   ]
  },
  {
   "cell_type": "code",
   "execution_count": null,
   "metadata": {
    "collapsed": true
   },
   "outputs": [],
   "source": [
    "def pick_word(probabilities, int_to_vocab):\n",
    "    \"\"\"\n",
    "    Pick the next word in the generated text\n",
    "    :param probabilities: Probabilites of the next word\n",
    "    :param int_to_vocab: Dictionary of word ids as the keys and words as the values\n",
    "    :return: String of the predicted word\n",
    "    \"\"\"\n",
    "    # TODO: Implement Function\n",
    "    return None\n",
    "\n",
    "\n",
    "\"\"\"\n",
    "DON'T MODIFY ANYTHING IN THIS CELL THAT IS BELOW THIS LINE\n",
    "\"\"\"\n",
    "tests.test_pick_word(pick_word)"
   ]
  },
  {
   "cell_type": "markdown",
   "metadata": {},
   "source": [
    "## Generate TV Script\n",
    "This will generate the TV script for you.  Set `gen_length` to the length of TV script you want to generate."
   ]
  },
  {
   "cell_type": "code",
   "execution_count": null,
   "metadata": {
    "collapsed": true
   },
   "outputs": [],
   "source": [
    "gen_length = 200\n",
    "# homer_simpson, moe_szyslak, or Barney_Gumble\n",
    "prime_word = 'moe_szyslak'\n",
    "\n",
    "\"\"\"\n",
    "DON'T MODIFY ANYTHING IN THIS CELL THAT IS BELOW THIS LINE\n",
    "\"\"\"\n",
    "loaded_graph = tf.Graph()\n",
    "with tf.Session(graph=loaded_graph) as sess:\n",
    "    # Load saved model\n",
    "    loader = tf.train.import_meta_graph(load_dir + '.meta')\n",
    "    loader.restore(sess, load_dir)\n",
    "\n",
    "    # Get Tensors from loaded model\n",
    "    input_text, initial_state, final_state, probs = get_tensors(loaded_graph)\n",
    "\n",
    "    # Sentences generation setup\n",
    "    gen_sentences = [prime_word + ':']\n",
    "    prev_state = sess.run(initial_state, {input_text: np.array([[1]])})\n",
    "\n",
    "    # Generate sentences\n",
    "    for n in range(gen_length):\n",
    "        # Dynamic Input\n",
    "        dyn_input = [[vocab_to_int[word] for word in gen_sentences[-seq_length:]]]\n",
    "        dyn_seq_length = len(dyn_input[0])\n",
    "\n",
    "        # Get Prediction\n",
    "        probabilities, prev_state = sess.run(\n",
    "            [probs, final_state],\n",
    "            {input_text: dyn_input, initial_state: prev_state})\n",
    "        \n",
    "        pred_word = pick_word(probabilities[dyn_seq_length-1], int_to_vocab)\n",
    "\n",
    "        gen_sentences.append(pred_word)\n",
    "    \n",
    "    # Remove tokens\n",
    "    tv_script = ' '.join(gen_sentences)\n",
    "    for key, token in token_dict.items():\n",
    "        ending = ' ' if key in ['\\n', '(', '\"'] else ''\n",
    "        tv_script = tv_script.replace(' ' + token.lower(), key)\n",
    "    tv_script = tv_script.replace('\\n ', '\\n')\n",
    "    tv_script = tv_script.replace('( ', '(')\n",
    "        \n",
    "    print(tv_script)"
   ]
  },
  {
   "cell_type": "markdown",
   "metadata": {},
   "source": [
    "# The TV Script is Nonsensical\n",
    "It's ok if the TV script doesn't make any sense.  We trained on less than a megabyte of text.  In order to get good results, you'll have to use a smaller vocabulary or get more data.  Luckly there's more data!  As we mentioned in the begging of this project, this is a subset of [another dataset](https://www.kaggle.com/wcukierski/the-simpsons-by-the-data).  We didn't have you train on all the data, because that would take too long.  However, you are free to train your neural network on all the data.  After you complete the project, of course.\n",
    "# Submitting This Project\n",
    "When submitting this project, make sure to run all the cells before saving the notebook. Save the notebook file as \"dlnd_tv_script_generation.ipynb\" and save it as a HTML file under \"File\" -> \"Download as\". Include the \"helper.py\" and \"problem_unittests.py\" files in your submission."
   ]
  }
 ],
 "metadata": {
  "kernelspec": {
   "display_name": "Python 3",
   "language": "python",
   "name": "python3"
  },
  "language_info": {
   "codemirror_mode": {
    "name": "ipython",
    "version": 3
   },
   "file_extension": ".py",
   "mimetype": "text/x-python",
   "name": "python",
   "nbconvert_exporter": "python",
   "pygments_lexer": "ipython3",
   "version": "3.5.3"
  },
  "widgets": {
   "state": {},
   "version": "1.1.2"
  }
 },
 "nbformat": 4,
 "nbformat_minor": 1
}
